{
 "cells": [
  {
   "cell_type": "code",
   "execution_count": 1,
   "metadata": {},
   "outputs": [
    {
     "name": "stdout",
     "output_type": "stream",
     "text": [
      "✅ GPU is set up correctly!\n",
      "Available GPUs: [PhysicalDevice(name='/physical_device:GPU:0', device_type='GPU')]\n"
     ]
    }
   ],
   "source": [
    "import os\n",
    "import tensorflow as tf\n",
    "\n",
    "# Force TensorFlow to use GPU\n",
    "os.environ[\"CUDA_VISIBLE_DEVICES\"] = \"0\"\n",
    "\n",
    "# Set memory growth to prevent TensorFlow crashes\n",
    "gpus = tf.config.list_physical_devices('GPU')\n",
    "if gpus:\n",
    "    try:\n",
    "        for gpu in gpus:\n",
    "            tf.config.experimental.set_memory_growth(gpu, True)\n",
    "        print(\"✅ GPU is set up correctly!\")\n",
    "    except RuntimeError as e:\n",
    "        print(e)\n",
    "\n",
    "# Confirm GPU is being used\n",
    "print(\"Available GPUs:\", tf.config.list_physical_devices('GPU'))\n"
   ]
  },
  {
   "cell_type": "code",
   "execution_count": 2,
   "metadata": {},
   "outputs": [],
   "source": [
    "import tensorflow as tf\n",
    "from tensorflow.keras import datasets\n",
    "import matplotlib.pyplot as plt"
   ]
  },
  {
   "cell_type": "code",
   "execution_count": 3,
   "metadata": {},
   "outputs": [
    {
     "name": "stdout",
     "output_type": "stream",
     "text": [
      "Training Data shape: (60000, 28, 28)\n",
      "Training Data shape: (10000, 28, 28)\n"
     ]
    }
   ],
   "source": [
    "(x_train, y_train), (x_test, y_test) = datasets.mnist.load_data()\n",
    "\n",
    "print(f\"Training Data shape: {x_train.shape}\")\n",
    "print(f\"Training Data shape: {x_test.shape}\")\n"
   ]
  },
  {
   "cell_type": "code",
   "execution_count": 4,
   "metadata": {},
   "outputs": [
    {
     "data": {
      "image/png": "[encoded data removed]",
      "text/plain": [
       "<Figure size 1000x300 with 5 Axes>"
      ]
     },
     "metadata": {},
     "output_type": "display_data"
    }
   ],
   "source": [
    "fig, axes = plt.subplots(1, 5, figsize=(10,3))\n",
    "for i in range (5):\n",
    "    axes[i].imshow(x_train[i], cmap='gray')\n",
    "    axes[i].set_title(f\"Label: {y_train[i]}\")\n",
    "    axes[i].axis(\"off\")\n",
    "\n",
    "plt.show()"
   ]
  },
  {
   "cell_type": "code",
   "execution_count": 5,
   "metadata": {},
   "outputs": [
    {
     "name": "stdout",
     "output_type": "stream",
     "text": [
      "New Training Data Shape: (60000, 28, 28, 1)\n",
      "New Testing Data Shape: (10000, 28, 28, 1)\n"
     ]
    }
   ],
   "source": [
    "# Normalize pixel values\n",
    "x_train = x_train / 255.0\n",
    "x_test = x_test/ 255.0\n",
    "\n",
    "# Reshape the images to add a single color channel (for compatibility with CNNs)\n",
    "x_train = x_train.reshape(-1, 28, 28, 1)\n",
    "x_test = x_test.reshape(-1, 28, 28, 1)\n",
    "\n",
    "# Print new shape\n",
    "print(f\"New Training Data Shape: {x_train.shape}\")\n",
    "print(f\"New Testing Data Shape: {x_test.shape}\")"
   ]
  },
  {
   "cell_type": "code",
   "execution_count": 23,
   "metadata": {},
   "outputs": [
    {
     "name": "stdout",
     "output_type": "stream",
     "text": [
      "Min pixel value: 0.0\n",
      "Max pixel value: 1.0\n"
     ]
    }
   ],
   "source": [
    "print(\"Min pixel value:\", x_train.min())\n",
    "print(\"Max pixel value:\", x_train.max())\n"
   ]
  },
  {
   "cell_type": "code",
   "execution_count": 6,
   "metadata": {},
   "outputs": [],
   "source": [
    "from tensorflow.keras import models, layers\n"
   ]
  },
  {
   "cell_type": "code",
   "execution_count": 7,
   "metadata": {},
   "outputs": [],
   "source": [
    "model = models.Sequential()"
   ]
  },
  {
   "cell_type": "code",
   "execution_count": 8,
   "metadata": {},
   "outputs": [],
   "source": [
    "model.add(layers.Conv2D(32, (3,3), activation='relu', input_shape=(28, 28, 1)))\n"
   ]
  },
  {
   "cell_type": "code",
   "execution_count": 9,
   "metadata": {},
   "outputs": [],
   "source": [
    "model.add(layers.MaxPooling2D((2,2)))"
   ]
  },
  {
   "cell_type": "code",
   "execution_count": 10,
   "metadata": {},
   "outputs": [],
   "source": [
    "model.add(layers.Conv2D(64, (3,3), activation='relu'))"
   ]
  },
  {
   "cell_type": "code",
   "execution_count": 11,
   "metadata": {},
   "outputs": [],
   "source": [
    "model.add(layers.MaxPooling2D((2,2)))\n"
   ]
  },
  {
   "cell_type": "code",
   "execution_count": 12,
   "metadata": {},
   "outputs": [],
   "source": [
    "model.add(layers.Flatten())"
   ]
  },
  {
   "cell_type": "code",
   "execution_count": 13,
   "metadata": {},
   "outputs": [],
   "source": [
    "model.add(layers.Dense(128, activation='relu'))\n"
   ]
  },
  {
   "cell_type": "code",
   "execution_count": 14,
   "metadata": {},
   "outputs": [],
   "source": [
    "model.add(layers.Dense(10, activation='softmax')) "
   ]
  },
  {
   "cell_type": "code",
   "execution_count": 15,
   "metadata": {},
   "outputs": [],
   "source": [
    "model.compile(optimizer='adam',\n",
    "              loss='sparse_categorical_crossentropy',\n",
    "              metrics=['accuracy'])"
   ]
  },
  {
   "cell_type": "code",
   "execution_count": 17,
   "metadata": {},
   "outputs": [
    {
     "name": "stdout",
     "output_type": "stream",
     "text": [
      "Model: \"sequential\"\n",
      "_________________________________________________________________\n",
      " Layer (type)                Output Shape              Param #   \n",
      "=================================================================\n",
      " conv2d (Conv2D)             (None, 26, 26, 32)        320       \n",
      "                                                                 \n",
      " max_pooling2d (MaxPooling2D  (None, 13, 13, 32)       0         \n",
      " )                                                               \n",
      "                                                                 \n",
      " conv2d_1 (Conv2D)           (None, 11, 11, 64)        18496     \n",
      "                                                                 \n",
      " max_pooling2d_1 (MaxPooling  (None, 5, 5, 64)         0         \n",
      " 2D)                                                             \n",
      "                                                                 \n",
      " flatten (Flatten)           (None, 1600)              0         \n",
      "                                                                 \n",
      " dense (Dense)               (None, 128)               204928    \n",
      "                                                                 \n",
      " dense_1 (Dense)             (None, 10)                1290      \n",
      "                                                                 \n",
      "=================================================================\n",
      "Total params: 225,034\n",
      "Trainable params: 225,034\n",
      "Non-trainable params: 0\n",
      "_________________________________________________________________\n"
     ]
    }
   ],
   "source": [
    "model.summary()\n"
   ]
  },
  {
   "cell_type": "code",
   "execution_count": 19,
   "metadata": {},
   "outputs": [
    {
     "name": "stdout",
     "output_type": "stream",
     "text": [
      "Epoch 1/10\n",
      "7500/7500 [==============================] - 17s 2ms/step - loss: 0.0988 - accuracy: 0.9686 - val_loss: 0.0397 - val_accuracy: 0.9869\n",
      "Epoch 2/10\n",
      "7500/7500 [==============================] - 16s 2ms/step - loss: 0.0374 - accuracy: 0.9890 - val_loss: 0.0338 - val_accuracy: 0.9895\n",
      "Epoch 3/10\n",
      "7500/7500 [==============================] - 16s 2ms/step - loss: 0.0251 - accuracy: 0.9923 - val_loss: 0.0331 - val_accuracy: 0.9892\n",
      "Epoch 4/10\n",
      "7500/7500 [==============================] - 16s 2ms/step - loss: 0.0185 - accuracy: 0.9943 - val_loss: 0.0397 - val_accuracy: 0.9898\n",
      "Epoch 5/10\n",
      "7500/7500 [==============================] - 16s 2ms/step - loss: 0.0145 - accuracy: 0.9955 - val_loss: 0.0312 - val_accuracy: 0.9902\n",
      "Epoch 6/10\n",
      "7500/7500 [==============================] - 16s 2ms/step - loss: 0.0117 - accuracy: 0.9964 - val_loss: 0.0418 - val_accuracy: 0.9906\n",
      "Epoch 7/10\n",
      "7500/7500 [==============================] - 19s 2ms/step - loss: 0.0107 - accuracy: 0.9967 - val_loss: 0.0468 - val_accuracy: 0.9896\n",
      "Epoch 8/10\n",
      "7500/7500 [==============================] - 18s 2ms/step - loss: 0.0090 - accuracy: 0.9970 - val_loss: 0.0557 - val_accuracy: 0.9890\n",
      "Epoch 9/10\n",
      "7500/7500 [==============================] - 16s 2ms/step - loss: 0.0075 - accuracy: 0.9977 - val_loss: 0.0469 - val_accuracy: 0.9917\n",
      "Epoch 10/10\n",
      "7500/7500 [==============================] - 17s 2ms/step - loss: 0.0088 - accuracy: 0.9973 - val_loss: 0.0632 - val_accuracy: 0.9902\n"
     ]
    }
   ],
   "source": [
    "history = model.fit(x_train, y_train, epochs=10, batch_size=8, validation_data=(x_test, y_test))\n"
   ]
  },
  {
   "cell_type": "code",
   "execution_count": 20,
   "metadata": {},
   "outputs": [
    {
     "name": "stdout",
     "output_type": "stream",
     "text": [
      "313/313 - 1s - loss: 0.0632 - accuracy: 0.9902 - 819ms/epoch - 3ms/step\n",
      "\n",
      "✅ Test Accuracy: 99.02%\n",
      "📉 Test Loss: 0.0632\n"
     ]
    }
   ],
   "source": [
    "# Evaluate model on test dataset\n",
    "test_loss, test_acc = model.evaluate(x_test, y_test, verbose=2)\n",
    "\n",
    "print(f\"\\n✅ Test Accuracy: {test_acc * 100:.2f}%\")\n",
    "print(f\"📉 Test Loss: {test_loss:.4f}\")\n"
   ]
  },
  {
   "cell_type": "code",
   "execution_count": 21,
   "metadata": {},
   "outputs": [
    {
     "name": "stdout",
     "output_type": "stream",
     "text": [
      "313/313 [==============================] - 1s 2ms/step\n"
     ]
    },
    {
     "data": {
      "image/png": "[encoded data removed]",
      "text/plain": [
       "<Figure size 1200x300 with 5 Axes>"
      ]
     },
     "metadata": {},
     "output_type": "display_data"
    }
   ],
   "source": [
    "import numpy as np\n",
    "\n",
    "# Make predictions on test dataset\n",
    "predictions = model.predict(x_test)\n",
    "\n",
    "# Select a few random samples to visualize predictions\n",
    "num_samples = 5\n",
    "indices = np.random.choice(len(x_test), num_samples)\n",
    "\n",
    "fig, axes = plt.subplots(1, num_samples, figsize=(12, 3))\n",
    "\n",
    "for i, idx in enumerate(indices):\n",
    "    axes[i].imshow(x_test[idx].reshape(28, 28), cmap='gray')\n",
    "    predicted_label = np.argmax(predictions[idx])\n",
    "    true_label = y_test[idx]\n",
    "    axes[i].set_title(f\"Pred: {predicted_label} | True: {true_label}\")\n",
    "    axes[i].axis(\"off\")\n",
    "\n",
    "plt.show()\n"
   ]
  },
  {
   "cell_type": "code",
   "execution_count": 24,
   "metadata": {},
   "outputs": [
    {
     "name": "stdout",
     "output_type": "stream",
     "text": [
      "313/313 [==============================] - 0s 1ms/step\n"
     ]
    },
    {
     "data": {
      "image/png": "[encoded data removed]",
      "text/plain": [
       "<Figure size 1200x300 with 5 Axes>"
      ]
     },
     "metadata": {},
     "output_type": "display_data"
    }
   ],
   "source": [
    "import numpy as np\n",
    "\n",
    "# Make predictions on test dataset\n",
    "predictions = model.predict(x_test)\n",
    "\n",
    "# Select a few random samples to visualize predictions\n",
    "num_samples = 5\n",
    "indices = np.random.choice(len(x_test), num_samples)\n",
    "\n",
    "fig, axes = plt.subplots(1, num_samples, figsize=(12, 3))\n",
    "\n",
    "for i, idx in enumerate(indices):\n",
    "    axes[i].imshow(x_test[idx].reshape(28, 28), cmap='gray')\n",
    "    predicted_label = np.argmax(predictions[idx])\n",
    "    true_label = y_test[idx]\n",
    "    axes[i].set_title(f\"Pred: {predicted_label} | True: {true_label}\")\n",
    "    axes[i].axis(\"off\")\n",
    "\n",
    "plt.show()\n"
   ]
  },
  {
   "cell_type": "code",
   "execution_count": 26,
   "metadata": {},
   "outputs": [
    {
     "name": "stdout",
     "output_type": "stream",
     "text": [
      "✅ Model saved successfully!\n"
     ]
    }
   ],
   "source": [
    "# Save the trained model\n",
    "model.save(\"mnist_model.h5\")\n",
    "print(\"✅ Model saved successfully!\")\n"
   ]
  },
  {
   "cell_type": "code",
   "execution_count": 27,
   "metadata": {},
   "outputs": [
    {
     "name": "stdout",
     "output_type": "stream",
     "text": [
      "313/313 - 1s - loss: 0.0632 - accuracy: 0.9902 - 658ms/epoch - 2ms/step\n",
      "\n",
      "✅ Loaded Model Accuracy: 99.02%\n"
     ]
    }
   ],
   "source": [
    "from tensorflow.keras.models import load_model\n",
    "\n",
    "# Load the saved model\n",
    "loaded_model = load_model(\"mnist_model.h5\")\n",
    "\n",
    "# Evaluate the loaded model to ensure it's the same\n",
    "loaded_loss, loaded_acc = loaded_model.evaluate(x_test, y_test, verbose=2)\n",
    "print(f\"\\n✅ Loaded Model Accuracy: {loaded_acc * 100:.2f}%\")\n"
   ]
  },
  {
   "cell_type": "code",
   "execution_count": 28,
   "metadata": {},
   "outputs": [
    {
     "name": "stderr",
     "output_type": "stream",
     "text": [
      "WARNING:absl:Found untraced functions such as _jit_compiled_convolution_op, _jit_compiled_convolution_op while saving (showing 2 of 2). These functions will not be directly callable after loading.\n"
     ]
    },
    {
     "name": "stdout",
     "output_type": "stream",
     "text": [
      "INFO:tensorflow:Assets written to: C:\\Users\\aliza\\AppData\\Local\\Temp\\tmpc4fc95yk\\assets\n"
     ]
    },
    {
     "name": "stderr",
     "output_type": "stream",
     "text": [
      "INFO:tensorflow:Assets written to: C:\\Users\\aliza\\AppData\\Local\\Temp\\tmpc4fc95yk\\assets\n"
     ]
    },
    {
     "name": "stdout",
     "output_type": "stream",
     "text": [
      "✅ Model converted to TFLite and saved!\n"
     ]
    }
   ],
   "source": [
    "# Convert the model to TensorFlow Lite format\n",
    "converter = tf.lite.TFLiteConverter.from_keras_model(loaded_model)\n",
    "tflite_model = converter.convert()\n",
    "\n",
    "# Save the TFLite model\n",
    "with open(\"mnist_model.tflite\", \"wb\") as f:\n",
    "    f.write(tflite_model)\n",
    "\n",
    "print(\"✅ Model converted to TFLite and saved!\")\n"
   ]
  },
  {
   "cell_type": "code",
   "execution_count": 29,
   "metadata": {},
   "outputs": [
    {
     "name": "stdout",
     "output_type": "stream",
     "text": [
      "✅ TFLite Model Size: 882.36 KB\n"
     ]
    }
   ],
   "source": [
    "import os\n",
    "\n",
    "# Get file size of the converted model\n",
    "model_size = os.path.getsize(\"mnist_model.tflite\") / 1024  # Convert bytes to KB\n",
    "print(f\"✅ TFLite Model Size: {model_size:.2f} KB\")\n"
   ]
  }
 ],
 "metadata": {
  "kernelspec": {
   "display_name": "newenv",
   "language": "python",
   "name": "python3"
  },
  "language_info": {
   "codemirror_mode": {
    "name": "ipython",
    "version": 3
   },
   "file_extension": ".py",
   "mimetype": "text/x-python",
   "name": "python",
   "nbconvert_exporter": "python",
   "pygments_lexer": "ipython3",
   "version": "3.10.11"
  }
 },
 "nbformat": 4,
 "nbformat_minor": 2
}
